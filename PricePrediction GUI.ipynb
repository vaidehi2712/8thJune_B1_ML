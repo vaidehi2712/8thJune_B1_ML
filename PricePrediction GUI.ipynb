{
 "cells": [
  {
   "cell_type": "code",
   "execution_count": 13,
   "id": "b8be2ad6-839e-4a2f-a1d9-d06f430cb9a4",
   "metadata": {},
   "outputs": [],
   "source": [
    "import pandas as pd \n",
    "import numpy as np \n",
    "import matplotlib.pyplot as plt \n",
    "import seaborn as sns \n",
    "import sklearn as skl \n",
    "import tkinter as tk\n",
    "import warnings\n",
    "warnings.filterwarnings('ignore')"
   ]
  },
  {
   "cell_type": "code",
   "execution_count": 14,
   "id": "ecc5e60f-95aa-4e91-93c9-daba880a1244",
   "metadata": {},
   "outputs": [],
   "source": [
    "m=pd.read_pickle('house_price_predictor.pkl')\n",
    "\n",
    "app=tk.Tk()\n",
    "app.geometry('450x400')\n",
    "app.title('house_price_predictor')\n",
    "\n",
    "income =tk.Variable(app)\n",
    "house_age =tk.Variable(app)\n",
    "rooms=tk.Variable(app)\n",
    "population=tk.Variable(app)\n",
    "m=pd.read_pickle('house_price_predictor.pkl')\n",
    "\n",
    "predicted_price=tk.Variable(app)\n",
    "predicted_price.set('')\n",
    "\n",
    "def houseprice():\n",
    "    inc=eval(income.get())\n",
    "    age=eval(house_age.get())\n",
    "    room=eval(rooms.get())\n",
    "    pop=eval(population.get())         \n",
    "    query=pd.DataFrame({'income':[inc],'house_age':[age],'room':[room],'population':[pop]})\n",
    "    predicted_price.set(round(m.predict(query)[0],2)) \n",
    "    \n",
    "\n",
    "entry_income=tk.Entry(app,textvariable = income,width=18)\n",
    "entry_income.place(x=230,y=60,height=10)\n",
    "label1=tk.Label(app,text='income').place(x=5,y=50)\n",
    "\n",
    "entry_age=tk.Entry(app,textvariable=house_age)\n",
    "entry_age.place(x=230,y=100,height=10)\n",
    "label2=tk.Label(app,text='house_age').place(x=5,y=100)\n",
    "\n",
    "entry_room=tk.Entry(app,textvariable=rooms)\n",
    "entry_room.place(x=230,y=140,height=10)\n",
    "label3=tk.Label(app,text='rooms').place(x=5,y=150)\n",
    "entry_pop=tk.Entry(app,textvariable=population)\n",
    "entry_pop.place(x=230,y=180,height=10)\n",
    "label4=tk.Label(app,text='population').place(x=5,y=200)\n",
    "\n",
    "button=tk.Button(app,text='Best price of house ',command=houseprice,bg='violet',fg='white').place(x=200,y=250,height=30)\n",
    "\n",
    "label5=tk.Label(app,textvariable=predicted_price,text='price_of_house').place(x=50,y=300)\n",
    "\n",
    "app.mainloop()"
   ]
  },
  {
   "cell_type": "code",
   "execution_count": null,
   "id": "1c29d90d-44a3-4607-8df8-e9d7a9eb6367",
   "metadata": {},
   "outputs": [],
   "source": []
  },
  {
   "cell_type": "code",
   "execution_count": null,
   "id": "547900a5-1c6d-4f16-a63f-07bdffee08d6",
   "metadata": {},
   "outputs": [],
   "source": []
  }
 ],
 "metadata": {
  "kernelspec": {
   "display_name": "Python 3",
   "language": "python",
   "name": "python3"
  },
  "language_info": {
   "codemirror_mode": {
    "name": "ipython",
    "version": 3
   },
   "file_extension": ".py",
   "mimetype": "text/x-python",
   "name": "python",
   "nbconvert_exporter": "python",
   "pygments_lexer": "ipython3",
   "version": "3.8.8"
  }
 },
 "nbformat": 4,
 "nbformat_minor": 5
}
