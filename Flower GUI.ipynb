{
 "cells": [
  {
   "cell_type": "code",
   "execution_count": 1,
   "id": "62880507-a873-46e9-9d37-1e26862ddc56",
   "metadata": {},
   "outputs": [],
   "source": [
    "import pandas as pd \n",
    "import sklearn as skl \n",
    "import tkinter as tk \n",
    "import warnings \n",
    "warnings.filterwarnings('ignore')"
   ]
  },
  {
   "cell_type": "code",
   "execution_count": 7,
   "id": "3841b991-161e-49cc-930f-b81903fbb7a7",
   "metadata": {},
   "outputs": [],
   "source": [
    "m = pd.read_pickle(r'Flower.pkl')\n",
    "\n",
    "app=tk.Tk()\n",
    "app.geometry('450x300')\n",
    "app.title(' Flower Species Classification')\n",
    "\n",
    "#Creating Canvas:-->\n",
    "canvas1=tk.Canvas(app,width=450,height=300)\n",
    "canvas1.pack(fill='both',expand=True)\n",
    "canvas1.create_image(0,0,anchor='nw')\n",
    "\n",
    "#for displaying the text\n",
    "canvas1.create_text(220,10,text=' Flower Species')\n",
    "\n",
    "#for prediction of house price\n",
    "def Predict():\n",
    "    sp_len = eval(Entry_sp_len.get())\n",
    "    sp_wid = eval(Entry_sp_wid.get())\n",
    "    pt_len = eval(Entry_pt_len.get())\n",
    "    pt_wid = eval(Entry_pt_wid.get())\n",
    "\n",
    "    inp = pd.DataFrame({'SL':[sp_len],'SW':[sp_wid],'PL':[pt_len],'PW':[pt_wid]})\n",
    "    result.set(round(m.predict(inp)[0],2))\n",
    "\n",
    "sp_len=canvas1.create_text(100,60,anchor='nw',text='Enter the Sepal Length(cm.)')   \n",
    "\n",
    "sp_wid=canvas1.create_text(100,80,anchor='nw',text='Enter the Sepal Width(cm.)')\n",
    "\n",
    "pt_len=canvas1.create_text(100,100,anchor='nw',text='Enter the Petal Length(cm.)')\n",
    "\n",
    "pt_wid=canvas1.create_text(100,120,anchor='nw',text='Enter the Petal Width(cm.)')\n",
    "\n",
    "Entry_sp_len=tk.Variable(app)\n",
    "tk.Entry(app,textvariable=Entry_sp_len).place(x=260,y=60,height=20)\n",
    "\n",
    "Entry_sp_wid=tk.Variable(app)\n",
    "tk.Entry(app,textvariable=Entry_sp_wid).place(x=260,y=80,height=20)\n",
    "\n",
    "Entry_pt_len=tk.Variable(app)\n",
    "tk.Entry(app,textvariable=Entry_pt_len).place(x=260,y=100,height=20)\n",
    "\n",
    "Entry_pt_wid=tk.Variable(app)\n",
    "tk.Entry(app,textvariable=Entry_pt_wid).place(x=260,y=120,height=20)\n",
    "\n",
    "tk.Button(app,text='Predict Flower Species',command=Predict,bg='light yellow').place(x=260,y=220,height=20)\n",
    "\n",
    "Predicted_species=tk.Variable(app)\n",
    "Predicted_species.set('The Predicted Flower Species')\n",
    "tk.Label(app,textvariable=Predicted_species).place(x=100,y=250)\n",
    "\n",
    "result=tk.Variable(app)\n",
    "result.set('')\n",
    "tk.Entry(app,textvariable=result).place(x=260,y=257,height=20)\n",
    "\n",
    "\n",
    "app.mainloop()"
   ]
  },
  {
   "cell_type": "code",
   "execution_count": null,
   "id": "4878a174-f686-4dfe-a809-78390d943b7b",
   "metadata": {},
   "outputs": [],
   "source": []
  }
 ],
 "metadata": {
  "kernelspec": {
   "display_name": "Python 3",
   "language": "python",
   "name": "python3"
  },
  "language_info": {
   "codemirror_mode": {
    "name": "ipython",
    "version": 3
   },
   "file_extension": ".py",
   "mimetype": "text/x-python",
   "name": "python",
   "nbconvert_exporter": "python",
   "pygments_lexer": "ipython3",
   "version": "3.8.8"
  }
 },
 "nbformat": 4,
 "nbformat_minor": 5
}
