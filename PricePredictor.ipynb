{
 "cells": [
  {
   "cell_type": "code",
   "execution_count": 1,
   "id": "142e72ea-5db6-4691-b480-b119f2402bd3",
   "metadata": {},
   "outputs": [],
   "source": [
    "import pandas as pd "
   ]
  },
  {
   "cell_type": "code",
   "execution_count": 13,
   "id": "a006c5ca-8fcb-48a0-9bd3-58cb6429e8eb",
   "metadata": {},
   "outputs": [],
   "source": [
    "m=pd.read_pickle('house_price_predictor.pkl')"
   ]
  },
  {
   "cell_type": "code",
   "execution_count": 14,
   "id": "cfcfa43f-d972-42e1-a838-a29dc4864348",
   "metadata": {},
   "outputs": [
    {
     "data": {
      "text/plain": [
       "LinearRegression()"
      ]
     },
     "execution_count": 14,
     "metadata": {},
     "output_type": "execute_result"
    }
   ],
   "source": [
    "m"
   ]
  },
  {
   "cell_type": "code",
   "execution_count": 16,
   "id": "b6df6828-3895-4181-9455-7cfaf0380e67",
   "metadata": {},
   "outputs": [
    {
     "name": "stdin",
     "output_type": "stream",
     "text": [
      "Enter the Income: 50000\n",
      "Enter the House Age: 4\n",
      "Enter the Number of Rooms: 6\n",
      "Enter the Population: 30000\n"
     ]
    }
   ],
   "source": [
    "inco= eval(input('Enter the Income:'))\n",
    "age= eval(input('Enter the House Age:'))\n",
    "room= eval(input('Enter the Number of Rooms:'))\n",
    "pop= eval(input('Enter the Population:'))\n",
    "\n",
    "quary=pd.DataFrame({'Income':[inco],'House_Age':[age],'Rooms':[room],'Population':[pop]})"
   ]
  },
  {
   "cell_type": "code",
   "execution_count": 17,
   "id": "748f19e7-4149-4682-80a2-d61120a3e90f",
   "metadata": {},
   "outputs": [
    {
     "data": {
      "text/html": [
       "<div>\n",
       "<style scoped>\n",
       "    .dataframe tbody tr th:only-of-type {\n",
       "        vertical-align: middle;\n",
       "    }\n",
       "\n",
       "    .dataframe tbody tr th {\n",
       "        vertical-align: top;\n",
       "    }\n",
       "\n",
       "    .dataframe thead th {\n",
       "        text-align: right;\n",
       "    }\n",
       "</style>\n",
       "<table border=\"1\" class=\"dataframe\">\n",
       "  <thead>\n",
       "    <tr style=\"text-align: right;\">\n",
       "      <th></th>\n",
       "      <th>Income</th>\n",
       "      <th>House_Age</th>\n",
       "      <th>Rooms</th>\n",
       "      <th>Population</th>\n",
       "    </tr>\n",
       "  </thead>\n",
       "  <tbody>\n",
       "    <tr>\n",
       "      <th>0</th>\n",
       "      <td>50000</td>\n",
       "      <td>4</td>\n",
       "      <td>6</td>\n",
       "      <td>30000</td>\n",
       "    </tr>\n",
       "  </tbody>\n",
       "</table>\n",
       "</div>"
      ],
      "text/plain": [
       "   Income  House_Age  Rooms  Population\n",
       "0   50000          4      6       30000"
      ]
     },
     "execution_count": 17,
     "metadata": {},
     "output_type": "execute_result"
    }
   ],
   "source": [
    "quary"
   ]
  },
  {
   "cell_type": "code",
   "execution_count": 18,
   "id": "10acf65c-6077-4a66-a714-a24444f55b57",
   "metadata": {},
   "outputs": [
    {
     "data": {
      "text/plain": [
       "289615.58"
      ]
     },
     "execution_count": 18,
     "metadata": {},
     "output_type": "execute_result"
    }
   ],
   "source": [
    "round(m.predict(quary)[0],2)"
   ]
  },
  {
   "cell_type": "code",
   "execution_count": null,
   "id": "d68ee2b8-8c10-4a22-b60c-38c06d0468ad",
   "metadata": {},
   "outputs": [],
   "source": []
  }
 ],
 "metadata": {
  "kernelspec": {
   "display_name": "Python 3",
   "language": "python",
   "name": "python3"
  },
  "language_info": {
   "codemirror_mode": {
    "name": "ipython",
    "version": 3
   },
   "file_extension": ".py",
   "mimetype": "text/x-python",
   "name": "python",
   "nbconvert_exporter": "python",
   "pygments_lexer": "ipython3",
   "version": "3.8.8"
  }
 },
 "nbformat": 4,
 "nbformat_minor": 5
}
