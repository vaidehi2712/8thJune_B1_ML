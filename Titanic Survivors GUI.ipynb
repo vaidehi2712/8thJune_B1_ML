{
 "cells": [
  {
   "cell_type": "code",
   "execution_count": 1,
   "metadata": {},
   "outputs": [],
   "source": [
    "import pandas as pd \r\n",
    "import tkinter as tk\r\n",
    "import warnings \r\n",
    "warnings.filterwarnings('ignore')"
   ]
  },
  {
   "cell_type": "code",
   "execution_count": 2,
   "metadata": {},
   "outputs": [
    {
     "ename": "FileNotFoundError",
     "evalue": "[Errno 2] No such file or directory: 'titanic Survivors Prediction.pkl'",
     "output_type": "error",
     "traceback": [
      "\u001b[1;31m---------------------------------------------------------------------------\u001b[0m",
      "\u001b[1;31mFileNotFoundError\u001b[0m                         Traceback (most recent call last)",
      "\u001b[1;32m<ipython-input-2-023b6cb4c334>\u001b[0m in \u001b[0;36m<module>\u001b[1;34m\u001b[0m\n\u001b[1;32m----> 1\u001b[1;33m \u001b[0mm\u001b[0m \u001b[1;33m=\u001b[0m \u001b[0mpd\u001b[0m\u001b[1;33m.\u001b[0m\u001b[0mread_pickle\u001b[0m\u001b[1;33m(\u001b[0m\u001b[1;34mr'titanic Survivors Prediction.pkl'\u001b[0m\u001b[1;33m)\u001b[0m\u001b[1;33m\u001b[0m\u001b[1;33m\u001b[0m\u001b[0m\n\u001b[0m\u001b[0;32m      2\u001b[0m \u001b[1;33m\u001b[0m\u001b[0m\n\u001b[0;32m      3\u001b[0m \u001b[0mapp\u001b[0m\u001b[1;33m=\u001b[0m\u001b[0mtk\u001b[0m\u001b[1;33m.\u001b[0m\u001b[0mTk\u001b[0m\u001b[1;33m(\u001b[0m\u001b[1;33m)\u001b[0m\u001b[1;33m\u001b[0m\u001b[1;33m\u001b[0m\u001b[0m\n\u001b[0;32m      4\u001b[0m \u001b[0mapp\u001b[0m\u001b[1;33m.\u001b[0m\u001b[0mgeometry\u001b[0m\u001b[1;33m(\u001b[0m\u001b[1;34m'450x400'\u001b[0m\u001b[1;33m)\u001b[0m\u001b[1;33m\u001b[0m\u001b[1;33m\u001b[0m\u001b[0m\n\u001b[0;32m      5\u001b[0m \u001b[0mapp\u001b[0m\u001b[1;33m.\u001b[0m\u001b[0mtitle\u001b[0m\u001b[1;33m(\u001b[0m\u001b[1;34m'Survivors'\u001b[0m\u001b[1;33m)\u001b[0m\u001b[1;33m\u001b[0m\u001b[1;33m\u001b[0m\u001b[0m\n",
      "\u001b[1;32m~\\anaconda3\\lib\\site-packages\\pandas\\io\\pickle.py\u001b[0m in \u001b[0;36mread_pickle\u001b[1;34m(filepath_or_buffer, compression, storage_options)\u001b[0m\n\u001b[0;32m    183\u001b[0m     \"\"\"\n\u001b[0;32m    184\u001b[0m     \u001b[0mexcs_to_catch\u001b[0m \u001b[1;33m=\u001b[0m \u001b[1;33m(\u001b[0m\u001b[0mAttributeError\u001b[0m\u001b[1;33m,\u001b[0m \u001b[0mImportError\u001b[0m\u001b[1;33m,\u001b[0m \u001b[0mModuleNotFoundError\u001b[0m\u001b[1;33m,\u001b[0m \u001b[0mTypeError\u001b[0m\u001b[1;33m)\u001b[0m\u001b[1;33m\u001b[0m\u001b[1;33m\u001b[0m\u001b[0m\n\u001b[1;32m--> 185\u001b[1;33m     with get_handle(\n\u001b[0m\u001b[0;32m    186\u001b[0m         \u001b[0mfilepath_or_buffer\u001b[0m\u001b[1;33m,\u001b[0m\u001b[1;33m\u001b[0m\u001b[1;33m\u001b[0m\u001b[0m\n\u001b[0;32m    187\u001b[0m         \u001b[1;34m\"rb\"\u001b[0m\u001b[1;33m,\u001b[0m\u001b[1;33m\u001b[0m\u001b[1;33m\u001b[0m\u001b[0m\n",
      "\u001b[1;32m~\\anaconda3\\lib\\site-packages\\pandas\\io\\common.py\u001b[0m in \u001b[0;36mget_handle\u001b[1;34m(path_or_buf, mode, encoding, compression, memory_map, is_text, errors, storage_options)\u001b[0m\n\u001b[0;32m    649\u001b[0m         \u001b[1;32melse\u001b[0m\u001b[1;33m:\u001b[0m\u001b[1;33m\u001b[0m\u001b[1;33m\u001b[0m\u001b[0m\n\u001b[0;32m    650\u001b[0m             \u001b[1;31m# Binary mode\u001b[0m\u001b[1;33m\u001b[0m\u001b[1;33m\u001b[0m\u001b[1;33m\u001b[0m\u001b[0m\n\u001b[1;32m--> 651\u001b[1;33m             \u001b[0mhandle\u001b[0m \u001b[1;33m=\u001b[0m \u001b[0mopen\u001b[0m\u001b[1;33m(\u001b[0m\u001b[0mhandle\u001b[0m\u001b[1;33m,\u001b[0m \u001b[0mioargs\u001b[0m\u001b[1;33m.\u001b[0m\u001b[0mmode\u001b[0m\u001b[1;33m)\u001b[0m\u001b[1;33m\u001b[0m\u001b[1;33m\u001b[0m\u001b[0m\n\u001b[0m\u001b[0;32m    652\u001b[0m         \u001b[0mhandles\u001b[0m\u001b[1;33m.\u001b[0m\u001b[0mappend\u001b[0m\u001b[1;33m(\u001b[0m\u001b[0mhandle\u001b[0m\u001b[1;33m)\u001b[0m\u001b[1;33m\u001b[0m\u001b[1;33m\u001b[0m\u001b[0m\n\u001b[0;32m    653\u001b[0m \u001b[1;33m\u001b[0m\u001b[0m\n",
      "\u001b[1;31mFileNotFoundError\u001b[0m: [Errno 2] No such file or directory: 'titanic Survivors Prediction.pkl'"
     ]
    }
   ],
   "source": [
    "m = pd.read_pickle(r'titanic Survivors Prediction.pkl')\r\n",
    "\r\n",
    "app=tk.Tk()\r\n",
    "app.geometry('450x400')\r\n",
    "app.title('Survivorple(2)\r\n",
    "\r\n",
    "canvas=tk.Canvas(app,width=450,height=300)\r\n",
    "canvas.pack(fill='both',expand=True)\r\n",
    "canvas.creat,0,image=bg,anchor='nw')\r\n",
    "\r\n",
    "canvas.create_text(220,10,text='Survivors Prediction')\r\n",
    "\r\n",
    "def Predict():\r\n",
    "    pc = input('Enter PClass')\r\n",
    "    age = input('Enter Age')\r\n",
    "    sib = input('Enter SibSp')\r\n",
    "    par = input('Enter Parch')\r\n",
    "    fare = input('Enter Fare')\r\n",
    "    female = input('Enter Female')\r\n",
    "    male = input('Enter Male')\r\n",
    "\r\n",
    "    inp = pd.DataFrame({'Pclass':[pc],'Age':[age],'SibSp':[sib],'Parch':[par],'Fare':[par],'female':[female],'male':[male]})\r\n",
    "\r\n",
    "pc = canvas.create_text(100,60,anchor='nw',text='Enter PClass')\r\n",
    "age = canvas.create_text(100,80,anchor='nw',text='Enter Age')\r\n",
    "sib = canvas.create_text(100,100,anchor='nw',text='Enter SibSp')\r\n",
    "par = canvas.create_text(100,120,anchor='nw',text='Enter Parch')\r\n",
    "fare = canvas.create_text(100,140,anchor='nw',text='Enter Fare')\r\n",
    "female = canvas.create_text(100,160,anchor='nw',text='Enter Female')\r\n",
    "male = canvas.create_text(100,180,anchor='nw',text='Enter Male')\r\n",
    "\r\n",
    "Entry_pc = tk.Variable(app)\r\n",
    "tk.Entry(app,textvariable=Entry_pc).place(x=260,y=60,height=20)\r\n",
    "\r\n",
    "Entry_age = tk.Variable(app)\r\n",
    "tk.Entry(app,textvariable=Entry_age).place(x=260,y=80,height=20)\r\n",
    "\r\n",
    "Entry_sib = tk.Variable(app)\r\n",
    "tk.Entry(app,textvariable=Entry_sib).place(x=260,y=100,height=20)\r\n",
    "\r\n",
    "Entry_par = tk.Variable(app)\r\n",
    "tk.Entry(app,textvariable=Entry_par).place(x=260,y=120,height=20)\r\n",
    "\r\n",
    "Entry_fare = tk.Variable(app)\r\n",
    "tk.Entry(app,textvariable=Entry_fare).place(x=260,y=140,height=20)\r\n",
    "\r\n",
    "Entry_female = tk.Variable(app)\r\n",
    "tk.Entry(app,textvariable=Entry_female).place(x=260,y=160,height=20)\r\n",
    "\r\n",
    "Entry_male = tk.Variable(app)\r\n",
    "tk.Entry(app,textvariable=Entry_male).place(x=260,y=180,height=20)\r\n",
    "\r\n",
    "\r\n",
    "tk.Button(app,text='Predict Survivor',command=Predict,bg='light blue').place(x=260,y=310,height=20)\r\n",
    "\r\n",
    "predicted_profit = tk.Variable(app)\r\n",
    "predicted_profit.set('The Prediction Is')\r\n",
    "tk.Label(app,textvariable=predicted_profit).place(x=100,y=330)\r\n",
    "\r\n",
    "result = tk.Variable(app)\r\n",
    "result.set('')\r\n",
    "tk.Entry(app,textvariable=result).place(x=260,y=350,height=20)\r\n",
    "\r\n",
    "\r\n",
    "app.mainloop()"
   ]
  },
  {
   "cell_type": "code",
   "execution_count": null,
   "metadata": {},
   "outputs": [],
   "source": []
  }
 ],
 "metadata": {
  "interpreter": {
   "hash": "686f372cfa9fca3158af1cb236269f9be773e56934179203fa072774a55f0176"
  },
  "kernelspec": {
   "display_name": "Python 3",
   "language": "python",
   "name": "python3"
  },
  "language_info": {
   "codemirror_mode": {
    "name": "ipython",
    "version": 3
   },
   "file_extension": ".py",
   "mimetype": "text/x-python",
   "name": "python",
   "nbconvert_exporter": "python",
   "pygments_lexer": "ipython3",
   "version": "3.8.8"
  }
 },
 "nbformat": 4,
 "nbformat_minor": 4
}
