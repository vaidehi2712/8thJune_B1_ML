{
 "cells": [
  {
   "cell_type": "code",
   "execution_count": 1,
   "id": "79151eec-2d16-4554-8d99-270ee4fc7428",
   "metadata": {},
   "outputs": [],
   "source": [
    "import tkinter as tk"
   ]
  },
  {
   "cell_type": "code",
   "execution_count": 2,
   "id": "2aaf5e0d-4cc8-4417-a5ad-e0e7de260d75",
   "metadata": {},
   "outputs": [],
   "source": [
    "import pandas as pd"
   ]
  },
  {
   "cell_type": "code",
   "execution_count": 3,
   "id": "a673deaa-67b8-422d-94c9-21129975f7d1",
   "metadata": {},
   "outputs": [],
   "source": [
    "import warnings\n",
    "warnings.filterwarnings('ignore')"
   ]
  },
  {
   "cell_type": "code",
   "execution_count": 12,
   "id": "ebfa2a9c-8f20-483d-b596-8e9c4c7577ce",
   "metadata": {},
   "outputs": [],
   "source": [
    "df = pd.read_csv('ml-100k/u.data',sep='\\t', names=['user_id','item_id','rating','ts'])\n",
    "cols = \"item_id|title| release date | video release date |\\\n",
    "              IMDb URL | unknown | Action | Adventure | Animation |\\\n",
    "              Children's | Comedy | Crime | Documentary | Drama | Fantasy |\\\n",
    "              Film-Noir | Horror | Musical | Mystery | Romance | Sci-Fi |\\\n",
    "              Thriller | War | Western\".split('|')\n",
    "movies = pd.read_csv('ml-100k/u.item',sep='|',names=cols)\n",
    "data = pd.merge(df.drop('ts',axis=1),movies[['item_id','title']], on='item_id')\n",
    "rate_count =  data.groupby('title')['rating'].count()\n",
    "df_pivot = data.pivot_table(index='user_id',columns='title',values='rating')\n",
    "\n",
    "app = tk.Tk()\n",
    "app.geometry('450x300')\n",
    "app.title('Recommendation Engine')\n",
    "\n",
    "listbox = tk.Listbox(app, height=15, width=30, bg='white',fg='black')\n",
    "listbox.place(x=20,y=20)\n",
    "\n",
    "for i,t in enumerate(data['title'].unique()):\n",
    "    listbox.insert(i+1, t)\n",
    "def recommend():\n",
    "    inp = listbox.get(listbox.curselection())\n",
    "    sim_df = pd.DataFrame(df_pivot.corrwith(df_pivot[inp]),columns=['corr'])\n",
    "    sim_df['count'] = rate_count\n",
    "    recom = sim_df[(sim_df['count']>100)].sort_values('corr',ascending=False)\n",
    "    recom.drop(inp,axis=0, inplace=True)\n",
    "    recommended = recom.index[:3]\n",
    "    result1.set(recommended[0])\n",
    "    result2.set(recommended[1])\n",
    "    result3.set(recommended[2])\n",
    "#     print(inp)\n",
    "#     print(recommended)\n",
    "\n",
    "tk.Button(app , text='Show Recommendations',command=recommend,bg='red',fg='white').place(x=250,y=30)\n",
    "result1 =tk.Variable(app)\n",
    "result1.set('.')\n",
    "tk.Label(app, textvariable=result1).place(x=250,y=100)\n",
    "\n",
    "result2=tk.Variable(app)\n",
    "result2.set('.')\n",
    "tk.Label(app, textvariable=result2).place(x=250,y=130)\n",
    "\n",
    "result3=tk.Variable(app)\n",
    "result3.set('.')\n",
    "tk.Label(app, textvariable=result3).place(x=250,y=160)\n",
    "\n",
    "app.mainloop()"
   ]
  },
  {
   "cell_type": "code",
   "execution_count": null,
   "id": "06869cad-2624-474b-8d4b-7ab2e6b3f7c0",
   "metadata": {},
   "outputs": [],
   "source": []
  }
 ],
 "metadata": {
  "kernelspec": {
   "display_name": "Python 3",
   "language": "python",
   "name": "python3"
  },
  "language_info": {
   "codemirror_mode": {
    "name": "ipython",
    "version": 3
   },
   "file_extension": ".py",
   "mimetype": "text/x-python",
   "name": "python",
   "nbconvert_exporter": "python",
   "pygments_lexer": "ipython3",
   "version": "3.8.8"
  }
 },
 "nbformat": 4,
 "nbformat_minor": 5
}
